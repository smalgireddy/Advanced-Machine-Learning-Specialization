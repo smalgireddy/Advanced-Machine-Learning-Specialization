{
 "cells": [
  {
   "cell_type": "code",
   "execution_count": 1,
   "metadata": {
    "collapsed": true
   },
   "outputs": [],
   "source": [
    "import tensorflow as tf\n",
    "import numpy as np\n",
    "import matplotlib.pyplot as plt"
   ]
  },
  {
   "cell_type": "code",
   "execution_count": 2,
   "metadata": {},
   "outputs": [
    {
     "name": "stderr",
     "output_type": "stream",
     "text": [
      "Using TensorFlow backend.\n"
     ]
    },
    {
     "name": "stdout",
     "output_type": "stream",
     "text": [
      "(50000, 28, 28) (50000,)\n"
     ]
    },
    {
     "data": {
      "image/png": "[encoded data removed]",
      "text/plain": [
       "<matplotlib.figure.Figure at 0x7f48a0d6e8d0>"
      ]
     },
     "metadata": {},
     "output_type": "display_data"
    }
   ],
   "source": [
    "from preprocessed_mnist import load_dataset\n",
    "X_train, y_train, X_val, y_val, X_test, y_test = load_dataset()\n",
    "print(X_train.shape, y_train.shape)\n",
    "import matplotlib.pyplot as plt\n",
    "%matplotlib inline\n",
    "plt.imshow(X_train[1], cmap=\"Greys\");"
   ]
  },
  {
   "cell_type": "code",
   "execution_count": 3,
   "metadata": {},
   "outputs": [],
   "source": [
    "W1 = tf.get_variable(\"W1\",  [784, 128], initializer=tf.contrib.layers.xavier_initializer(),dtype = tf.float32)\n",
    "b1 = tf.get_variable(\"b1\",  [128], initializer=tf.zeros_initializer(),dtype = tf.float32)\n",
    "W2 = tf.get_variable(\"W2\",  [128, 256], initializer=tf.contrib.layers.xavier_initializer(),dtype=tf.float32)\n",
    "b2 = tf.get_variable(\"b2\",  [256], initializer=tf.zeros_initializer(),dtype = tf.float32)\n",
    "W3 = tf.get_variable(\"W3\", [256, 10], initializer=tf.contrib.layers.xavier_initializer(),dtype=tf.float32)\n",
    "b3 = tf.get_variable(\"b3\",  [10], initializer=tf.zeros_initializer(),dtype = tf.float32)"
   ]
  },
  {
   "cell_type": "code",
   "execution_count": 4,
   "metadata": {
    "collapsed": true
   },
   "outputs": [],
   "source": [
    "X_train = X_train.reshape([X_train.shape[0], np.square(X_train.shape[1])])\n",
    "X_test = X_test.reshape([X_test.shape[0], np.square(X_test.shape[1])])\n",
    "X = tf.placeholder(tf.float32, shape=(None, 784))\n",
    "Y = tf.placeholder(tf.float32, shape=(None, 10))\n",
    "keep_prob = tf.placeholder(tf.float32)"
   ]
  },
  {
   "cell_type": "code",
   "execution_count": 5,
   "metadata": {
    "collapsed": true
   },
   "outputs": [],
   "source": [
    "Z1 = tf.matmul(X, W1)+b1\n",
    "A1 = tf.nn.relu(Z1)\n",
    "A1 = tf.nn.dropout(A1, keep_prob)\n",
    "Z2 = tf.matmul(A1, W2)+b2\n",
    "A2 = tf.nn.relu(Z2)\n",
    "A2 = tf.nn.dropout(A2, keep_prob)\n",
    "Z3 = tf.matmul(A2, W3)+b3\n",
    "A3 = tf.nn.sigmoid(Z3)"
   ]
  },
  {
   "cell_type": "code",
   "execution_count": 6,
   "metadata": {
    "collapsed": true
   },
   "outputs": [],
   "source": [
    "def entropy_cost(A3, Y):\n",
    "    cost = tf.reduce_mean(tf.nn.softmax_cross_entropy_with_logits(labels=Y, logits=A3))\n",
    "    return cost"
   ]
  },
  {
   "cell_type": "code",
   "execution_count": 7,
   "metadata": {
    "collapsed": true
   },
   "outputs": [],
   "source": [
    "loss = entropy_cost(A3, Y)\n",
    "starter_learning_rate = 0.0001\n",
    "global_step = tf.Variable(0, trainable=False)\n",
    "learning_rate = tf.train.exponential_decay(starter_learning_rate, global_step, 100, 0.75, staircase=True)\n",
    "optimizer = tf.train.AdamOptimizer(learning_rate).minimize(loss)\n",
    "init = tf.global_variables_initializer()"
   ]
  },
  {
   "cell_type": "code",
   "execution_count": null,
   "metadata": {},
   "outputs": [],
   "source": [
    "y_train = np.eye(10)[y_train]\n",
    "y_test = np.eye(10)[y_test]"
   ]
  },
  {
   "cell_type": "code",
   "execution_count": null,
   "metadata": {},
   "outputs": [
    {
     "name": "stdout",
     "output_type": "stream",
     "text": [
      "Test cost after 10 epochs: 1.52708\n",
      "Test cost after 20 epochs: 1.50496\n",
      "Test cost after 30 epochs: 1.49465\n",
      "Test cost after 40 epochs: 1.48852\n",
      "Test cost after 50 epochs: 1.48436\n",
      "Test cost after 60 epochs: 1.48141\n",
      "Test cost after 70 epochs: 1.47924\n",
      "Test cost after 80 epochs: 1.47734\n",
      "Test cost after 90 epochs: 1.4759\n",
      "Test cost after 100 epochs: 1.47489\n",
      "Test cost after 110 epochs: 1.47389\n",
      "Test cost after 120 epochs: 1.47306\n",
      "Test cost after 130 epochs: 1.47217\n",
      "Test cost after 140 epochs: 1.47149\n"
     ]
    }
   ],
   "source": [
    "batch_size = 100\n",
    "with tf.Session() as sess:\n",
    "    sess.run(init)\n",
    "    training_loss = []\n",
    "    testing_loss = []\n",
    "    for epoch in range(500):\n",
    "        for i in range(0, X_train.shape[0], batch_size):\n",
    "            sess.run(optimizer, feed_dict = {X: X_train[i:i+batch_size], Y: y_train[i:i+batch_size], keep_prob:0.5})\n",
    "        training_loss.append(sess.run(loss, feed_dict={X:X_train, Y:y_train, keep_prob:1}))\n",
    "        testing_loss.append(sess.run(loss, feed_dict={X:X_test, Y:y_test, keep_prob:1}))\n",
    "        if epoch%10 == 9:\n",
    "            print(\"Test cost after \" + str(epoch+1)+ \" epochs: \"+ str(training_loss[-1]))\n",
    "    \n",
    "    iterations = list(range(500))\n",
    "    plt.plot(iterations, training_loss, label='Train')\n",
    "    plt.plot(iterations, testing_loss, label='Test')\n",
    "    plt.ylabel('train cost')\n",
    "    plt.xlabel('iterations')\n",
    "    plt.show()\n",
    "    \n",
    "    # Calculate the correct predictions\n",
    "    predict_op = tf.argmax(Z3, 1)\n",
    "    correct_prediction = tf.equal(predict_op, tf.argmax(Y, 1))\n",
    "\n",
    "    # Calculate accuracy on the test set\n",
    "    accuracy = tf.reduce_mean(tf.cast(correct_prediction, \"float\"))\n",
    "    train_accuracy = accuracy.eval({X: X_train, Y: y_train, keep_prob : 1})\n",
    "    test_accuracy = accuracy.eval({X: X_test, Y: y_test, keep_prob : 1})\n",
    "    print(\"Train Accuracy:\", train_accuracy)\n",
    "    print(\"Test Accuracy:\", test_accuracy)"
   ]
  },
  {
   "cell_type": "code",
   "execution_count": null,
   "metadata": {
    "collapsed": true
   },
   "outputs": [],
   "source": []
  }
 ],
 "metadata": {
  "kernelspec": {
   "display_name": "Python 3",
   "language": "python",
   "name": "python3"
  },
  "language_info": {
   "codemirror_mode": {
    "name": "ipython",
    "version": 3
   },
   "file_extension": ".py",
   "mimetype": "text/x-python",
   "name": "python",
   "nbconvert_exporter": "python",
   "pygments_lexer": "ipython3",
   "version": "3.6.0"
  }
 },
 "nbformat": 4,
 "nbformat_minor": 2
}
